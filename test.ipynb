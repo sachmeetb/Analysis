{
 "cells": [
  {
   "cell_type": "code",
   "execution_count": 1,
   "metadata": {},
   "outputs": [
    {
     "name": "stderr",
     "output_type": "stream",
     "text": [
      "2022-06-21 15:21:20.216 \n",
      "  \u001b[33m\u001b[1mWarning:\u001b[0m to view this Streamlit app on a browser, run it with the following\n",
      "  command:\n",
      "\n",
      "    streamlit run c:\\Users\\sachm\\anaconda3\\lib\\site-packages\\ipykernel_launcher.py [ARGUMENTS]\n"
     ]
    }
   ],
   "source": [
    "import streamlit as st\n",
    "import pandas as pd\n",
    "import matplotlib.pyplot as plt\n",
    "import numpy as np\n",
    "from wordcloud import WordCloud\n",
    "from google.cloud import bigquery\n",
    "import yfinance\n",
    "\n",
    "# bqclient = bigquery.Client()\n",
    "\n",
    "\n",
    "# table = bigquery.TableReference.from_string(\n",
    "#     \"awesome-sylph-353909.TelecomAnalysisDataset.NewWordCloudTable\"\n",
    "# )\n",
    "# rows = bqclient.list_rows(\n",
    "#     table,\n",
    "#     selected_fields=[\n",
    "#         bigquery.SchemaField(\"text\", \"STRING\"),\n",
    "#     ],\n",
    "# )\n",
    "# dataframe = rows.to_dataframe(\n",
    "#     # Optionally, explicitly request to use the BigQuery Storage API. As of\n",
    "#     # google-cloud-bigquery version 1.26.0 and above, the BigQuery Storage\n",
    "#     # API is used by default.\n",
    "#     create_bqstorage_client=True,\n",
    "# )\n",
    "# print(dataframe.head())\n",
    "\n",
    "# string = ' '.join(dataframe.text.tolist())\n",
    "\n",
    "# from gensim.parsing.preprocessing import remove_stopwords\n",
    "# t1 = remove_stopwords(string)\n",
    "\n",
    "# # print(t1)\n",
    "# t1 = t1.lower()\n",
    "# remove_digits = 1\n",
    "# pattern = r'[^a-zA-Z0-9\\s]' if not remove_digits else r'[^a-zA-Z\\s]'\n",
    "# import re\n",
    "# t1 = re.sub(pattern, '', t1)\n",
    "# st.set_option('deprecation.showPyplotGlobalUse', False)\n",
    "\n",
    "# word_cloud1 = WordCloud(collocations = False, background_color = 'white').generate(t1)\n",
    "# plt.imshow(word_cloud1, interpolation='bilinear')\n",
    "# plt.axis(\"off\")\n",
    "# plt.show()\n",
    "# st.pyplot()\n",
    "\n",
    "\n",
    "tickers = {\n",
    "    'Verizon': ['USA', 'VZ'],\n",
    "    'AT&T':['USA','T'], \n",
    "    'Deutche Telecom':['Germany','DTE.DE'], \n",
    "    'O2 Holdings': ['Germany','O2D.DE'], \n",
    "    'SK Telecom': ['South Korea','SKM'], \n",
    "    'KT Telecom': ['South Korea','KT'], \n",
    "    'Etisalat':['UAE','7020.SR'], \n",
    "    'Du Telecom':['UAE','DU.AE'], \n",
    "    'British Telecom': ['UK','BT-A.L'], \n",
    "    'Vodafone': ['UK','VOD.L']\n",
    "}\n",
    "f=0\n",
    "placeholder = st.empty()\n",
    "for i in tickers:\n",
    "    # placeholder.text('Getting data for '+i)\n",
    "    tickers[i].append(yfinance.Ticker(tickers[i][1]))\n",
    "    tickers[i].append(tickers[i][2].info)\n",
    "    tickers[i].append(tickers[i][2].earnings)\n",
    "placeholder.empty()\n",
    "\n",
    "earnings_df = pd.DataFrame()\n",
    "\n",
    "from functools import reduce # import needed for python3; builtin in python2\n",
    "from collections import defaultdict\n",
    "\n",
    "def groupBy(key, seq):\n",
    " return reduce(lambda grp, val: grp[key(val)].append(val) or grp, seq, defaultdict(list))\n",
    "\n",
    "arranged = groupBy(lambda x: tickers[x][0], tickers)\n",
    "\n"
   ]
  },
  {
   "cell_type": "code",
   "execution_count": 2,
   "metadata": {},
   "outputs": [],
   "source": [
    "l=[]\n",
    "for i in arranged:\n",
    "    st.write(i)\n",
    "    for j in arranged[i]:\n",
    "        earnings_df[j] = tickers[j][4].Earnings.pct_change()\n",
    "        st.image(tickers[j][3]['logo_url'])\n",
    "    st.bar_chart(earnings_df)\n",
    "    earnings_df=pd.DataFrame()"
   ]
  }
 ],
 "metadata": {
  "kernelspec": {
   "display_name": "Python 3.9.7 ('base')",
   "language": "python",
   "name": "python3"
  },
  "language_info": {
   "codemirror_mode": {
    "name": "ipython",
    "version": 3
   },
   "file_extension": ".py",
   "mimetype": "text/x-python",
   "name": "python",
   "nbconvert_exporter": "python",
   "pygments_lexer": "ipython3",
   "version": "3.9.7"
  },
  "orig_nbformat": 4,
  "vscode": {
   "interpreter": {
    "hash": "0e5012205b5a324994e399fe217435e5eec826968e9cab1ce8f3864b704a542d"
   }
  }
 },
 "nbformat": 4,
 "nbformat_minor": 2
}
